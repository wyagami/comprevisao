{
  "nbformat": 4,
  "nbformat_minor": 0,
  "metadata": {
    "colab": {
      "provenance": [],
      "authorship_tag": "ABX9TyOnYtGx1Vytcapz67JZgI3J",
      "include_colab_link": true
    },
    "kernelspec": {
      "name": "python3",
      "display_name": "Python 3"
    },
    "language_info": {
      "name": "python"
    }
  },
  "cells": [
    {
      "cell_type": "markdown",
      "metadata": {
        "id": "view-in-github",
        "colab_type": "text"
      },
      "source": [
        "<a href=\"https://colab.research.google.com/github/wyagami/comprevisao/blob/main/C%C3%B3pia_de_PyPDF2.ipynb\" target=\"_parent\"><img src=\"https://colab.research.google.com/assets/colab-badge.svg\" alt=\"Open In Colab\"/></a>"
      ]
    },
    {
      "cell_type": "code",
      "source": [
        "!pip install PyPDF2"
      ],
      "metadata": {
        "colab": {
          "base_uri": "https://localhost:8080/"
        },
        "id": "MSxeY3BkN-q0",
        "outputId": "91f134a5-1c40-4875-827c-2eebbd061e05"
      },
      "execution_count": null,
      "outputs": [
        {
          "output_type": "stream",
          "name": "stdout",
          "text": [
            "Looking in indexes: https://pypi.org/simple, https://us-python.pkg.dev/colab-wheels/public/simple/\n",
            "Requirement already satisfied: PyPDF2 in /usr/local/lib/python3.8/dist-packages (2.12.1)\n",
            "Requirement already satisfied: typing_extensions>=3.10.0.0 in /usr/local/lib/python3.8/dist-packages (from PyPDF2) (4.4.0)\n"
          ]
        }
      ]
    },
    {
      "cell_type": "code",
      "execution_count": null,
      "metadata": {
        "id": "nmJokTf4Nunl"
      },
      "outputs": [],
      "source": [
        "import PyPDF2\n",
        "import re"
      ]
    },
    {
      "cell_type": "code",
      "source": [
        "pdfFileObj = open('/content/Dacon 2012-01.pdf', 'rb')\n",
        "pdfReader = PyPDF2.PdfFileReader(pdfFileObj)\n",
        "pdfReader.numPages\n",
        "pdfWriter = PyPDF2.PdfFileWriter()\n",
        "\n",
        "for pageNum in range(pdfReader.numPages):\n",
        "    pageObj = pdfReader.getPage(pageNum)\n",
        "    TEST = pageObj.extractText()\n",
        "    if TEST.find(\"268.099,47\") != 1:\n",
        "        pdfWriter.addPage(pageObj)\n",
        "\n",
        "pdfOutput = open('/content/FILEOUT.pdf', 'wb')\n",
        "pdfWriter.write(pdfOutput)\n",
        "pdfOutput.close()        "
      ],
      "metadata": {
        "id": "1SofL7bsNyX9"
      },
      "execution_count": null,
      "outputs": []
    },
    {
      "cell_type": "code",
      "source": [
        "object = PyPDF2.PdfFileReader(\"/content/copia_dacon_1.pdf\")\n",
        "\n",
        "# get number of pages\n",
        "NumPages = object.getNumPages()\n",
        "\n",
        "# define keyterms\n",
        "String = \"Mês/Ano:\"\n",
        "\n",
        "# extract text and do the search\n",
        "for i in range(0, NumPages):\n",
        "    PageObj = object.getPage(i)\n",
        "    print(\"this is page \" + str(i)) \n",
        "    Text = PageObj.extractText() \n",
        "    # print(Text)\n",
        "    ResSearch = re.search(String, Text)\n",
        "    pos_i=(Text.find(String))\n",
        "    t=Text[pos_i:pos_i+44].replace('/','').replace(' ','')\n",
        "    print(t)\n",
        "    "
      ],
      "metadata": {
        "id": "Xka91G8nTQ2e"
      },
      "execution_count": null,
      "outputs": []
    },
    {
      "cell_type": "code",
      "source": [
        "object = PyPDF2.PdfFileReader(\"/content/Dacon 2012-01.pdf\")\n",
        "\n",
        "# get number of pages\n",
        "NumPages = object.getNumPages()\n",
        "\n",
        "# define keyterms\n",
        "String = \"Mês/Ano:\"\n",
        "\n",
        "pdfWriter = PyPDF2.PdfFileWriter()\n",
        "pdfOutput = open('/content/FILEOUT.pdf', 'wb')\n",
        "\n",
        "# extract text and do the search\n",
        "for i in range(0, NumPages):\n",
        "    PageObj = object.getPage(i)\n",
        "    Text = PageObj.extractText() \n",
        "    pos_i=(Text.find(String))\n",
        "    t=Text[pos_i:278]\n",
        "    if pos_i == -1:\n",
        "        pdfWriter.addPage(PageObj)\n",
        "\n",
        "pdfWriter.write(pdfOutput)\n",
        "pdfOutput.close()        "
      ],
      "metadata": {
        "id": "X69IeCijtlrv"
      },
      "execution_count": null,
      "outputs": []
    },
    {
      "cell_type": "code",
      "source": [
        "object = PyPDF2.PdfFileReader(\"/content/Dacon 2012-01.pdf\")\n",
        "\n",
        "# get number of pages\n",
        "NumPages = object.getNumPages()\n",
        "\n",
        "# define keyterms\n",
        "String = \"Mês/Ano:\"\n",
        "\n",
        "pdfWriter = PyPDF2.PdfFileWriter()\n",
        "pdfOutput = open('/content/FILEOUT.pdf', 'wb')\n",
        "\n",
        "# extract text and do the search\n",
        "for i in range(0, NumPages):\n",
        "    PageObj = object.getPage(i)\n",
        "    Text = PageObj.extractText() \n",
        "    pos_i=(Text.find(String))\n",
        "    t=Text[pos_i:278]\n",
        "    if pos_i != -1:\n",
        "        pdfWriter.addPage(PageObj)\n",
        "\n",
        "pdfWriter.write(pdfOutput)\n",
        "pdfOutput.close()  "
      ],
      "metadata": {
        "id": "s5PvHTgNxCww"
      },
      "execution_count": null,
      "outputs": []
    },
    {
      "cell_type": "code",
      "source": [
        "import os"
      ],
      "metadata": {
        "id": "gUE9LX3pXy2F"
      },
      "execution_count": null,
      "outputs": []
    },
    {
      "cell_type": "code",
      "source": [
        "object = PyPDF2.PdfFileReader(\"/content/pasta4/copia_dacon_1.pdf\")\n",
        "\n",
        "# get number of pages\n",
        "NumPages = object.getNumPages()\n",
        "\n",
        "# define keyterms\n",
        "String = \"Mês/Ano:\"\n",
        "\n",
        "pdfWriter = PyPDF2.PdfFileWriter()\n",
        "pdfOutput = open('/content/pasta4/FILEOUT.pdf', 'wb')\n",
        "\n",
        "for i in range(0, NumPages):\n",
        "    PageObj = object.getPage(i)\n",
        "    Text = PageObj.extractText() \n",
        "    pos_i=(Text.find(String))\n",
        "    t=Text[pos_i:pos_i+44].replace('/','').replace(' ','')\n",
        "    if pos_i != -1:\n",
        "        pdfWriter.addPage(PageObj)\n",
        "\n",
        "pdfWriter.write(pdfOutput)\n",
        "pdfOutput.close()  \n",
        "\n",
        "\n",
        "pdfWriter = PyPDF2.PdfFileWriter()\n",
        "\n",
        "object = PyPDF2.PdfFileReader(\"/content/pasta4/FILEOUT.pdf\")\n",
        "\n",
        "NumPages = object.getNumPages()\n",
        "\n",
        "i=0\n",
        "while i < NumPages:\n",
        "    PageObj = object.getPage(i)\n",
        "    Text = PageObj.extractText() \n",
        "    pos_i=(Text.find(String))\n",
        "    t=Text[pos_i:pos_i+44].replace('/','').replace(' ','')\n",
        "    v=t\n",
        "    caminho = '/content/pasta4/'+t.replace('/','').replace(' ','')+'.pdf'\n",
        "\n",
        "    if os.path.isfile(caminho):\n",
        "      pdfOutput = caminho + '_1'\n",
        "\n",
        "    pdfOutput = open(caminho, 'wb')\n",
        "\n",
        "    while i < NumPages and t==v:\n",
        "        PageObj = object.getPage(i)\n",
        "        Text = PageObj.extractText() \n",
        "        pos_i=(Text.find(String))\n",
        "        v=Text[pos_i:pos_i+44].replace('/','').replace(' ','')\n",
        "  \n",
        "        if t==v:\n",
        "          pdfWriter.addPage(PageObj)\n",
        "          i=i+1\n",
        "\n",
        "    \n",
        "    pdfWriter.write(pdfOutput)\n",
        "    pdfOutput.close()  \n",
        "    pdfWriter = PyPDF2.PdfFileWriter()\n"
      ],
      "metadata": {
        "id": "oE0NYS7F1nm-"
      },
      "execution_count": null,
      "outputs": []
    },
    {
      "cell_type": "markdown",
      "source": [
        "# Nova seção"
      ],
      "metadata": {
        "id": "J-oEuaZHQ9_g"
      }
    }
  ]
}